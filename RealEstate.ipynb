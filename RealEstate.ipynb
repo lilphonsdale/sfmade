{
 "cells": [
  {
   "cell_type": "code",
   "execution_count": 42,
   "id": "c786264c",
   "metadata": {},
   "outputs": [],
   "source": [
    "from splinter import Browser\n",
    "from bs4 import BeautifulSoup as soup\n",
    "import pandas as pd"
   ]
  },
  {
   "cell_type": "code",
   "execution_count": 84,
   "id": "0587ea6d",
   "metadata": {},
   "outputs": [],
   "source": [
    "#search page\n",
    "browser = Browser('chrome')\n",
    "url = 'https://sfbay.craigslist.org/search/off?postal=94107&query=pdr&search_distance=4#search=1~gallery~0~0'\n",
    "browser.visit(url)\n",
    "html = browser.html\n",
    "website = soup(html, 'html.parser')"
   ]
  },
  {
   "cell_type": "code",
   "execution_count": 90,
   "id": "4e289879",
   "metadata": {},
   "outputs": [],
   "source": [
    "#collect all of the search results\n",
    "\n",
    "results = website.find_all(class_=\"cl-search-result cl-search-view-mode-gallery\")\n",
    "\n",
    "results_info = []\n",
    "\n",
    "for x in results:\n",
    "    if x.find(class_='titlestring') is not None:\n",
    "        title = x.find(class_='titlestring').text\n",
    "        link = x.find(class_='titlestring')['href']\n",
    "    else: title = None\n",
    "    if x.find(class_='meta') is not None:\n",
    "        info = x.find(class_='meta').text\n",
    "    else: info = None\n",
    "    if x.find(class_='priceinfo') is not None:\n",
    "        price = x.find(class_='priceinfo').text\n",
    "    else: price = None\n",
    "    dictionary = {\n",
    "        \"title\":title,\n",
    "        \"link\":link,\n",
    "        \"info\":info,\n",
    "        \"price\":price,\n",
    "    }\n",
    "    results_info.append(dictionary)"
   ]
  },
  {
   "cell_type": "code",
   "execution_count": 91,
   "id": "4b49800b",
   "metadata": {
    "scrolled": false
   },
   "outputs": [
    {
     "data": {
      "text/html": [
       "<div>\n",
       "<style scoped>\n",
       "    .dataframe tbody tr th:only-of-type {\n",
       "        vertical-align: middle;\n",
       "    }\n",
       "\n",
       "    .dataframe tbody tr th {\n",
       "        vertical-align: top;\n",
       "    }\n",
       "\n",
       "    .dataframe thead th {\n",
       "        text-align: right;\n",
       "    }\n",
       "</style>\n",
       "<table border=\"1\" class=\"dataframe\">\n",
       "  <thead>\n",
       "    <tr style=\"text-align: right;\">\n",
       "      <th></th>\n",
       "    </tr>\n",
       "  </thead>\n",
       "  <tbody>\n",
       "  </tbody>\n",
       "</table>\n",
       "</div>"
      ],
      "text/plain": [
       "Empty DataFrame\n",
       "Columns: []\n",
       "Index: []"
      ]
     },
     "execution_count": 91,
     "metadata": {},
     "output_type": "execute_result"
    }
   ],
   "source": [
    "df = pd.DataFrame(results_info)\n",
    "df.head()"
   ]
  },
  {
   "cell_type": "code",
   "execution_count": 87,
   "id": "213266e7",
   "metadata": {},
   "outputs": [],
   "source": [
    "meta = website.find(\"div\", class_='meta')\n",
    "meta\n",
    "# meta = meta.find(\"span\", class_=\"separator\").remove()"
   ]
  },
  {
   "cell_type": "code",
   "execution_count": 92,
   "id": "9cdd98b1",
   "metadata": {},
   "outputs": [],
   "source": [
    "#with many more results\n",
    "\n",
    "new_url = 'https://sfbay.craigslist.org/search/off?postal=94107&query=industrial&search_distance=4#search=1~gallery~0~0'\n",
    "browser.visit(new_url)\n",
    "new_html = browser.html\n",
    "new_website = soup(html, 'html.parser')\n",
    "\n",
    "many_results = website.find_all(class_=\"cl-search-result cl-search-view-mode-gallery\")\n",
    "\n",
    "many_results_info = []\n",
    "\n",
    "for x in many_results:\n",
    "    if x.find(class_='titlestring') is not None:\n",
    "        new_title = x.find(class_='titlestring').text\n",
    "        new_link = x.find(class_='titlestring')['href']\n",
    "    else: title = None\n",
    "    if x.find(class_='meta') is not None:\n",
    "        new_info = x.find(class_='meta').text\n",
    "    else: info = None\n",
    "    if x.find(class_='priceinfo') is not None:\n",
    "        new_price = x.find(class_='priceinfo').text\n",
    "    else: price = None\n",
    "    dictionary = {\n",
    "        \"title\":new_title,\n",
    "        \"link\":new_link,\n",
    "        \"info\":new_info,\n",
    "        \"price\":new_price,\n",
    "    }\n",
    "    many_results_info.append(dictionary)"
   ]
  },
  {
   "cell_type": "code",
   "execution_count": 93,
   "id": "6a516257",
   "metadata": {},
   "outputs": [
    {
     "data": {
      "text/html": [
       "<div>\n",
       "<style scoped>\n",
       "    .dataframe tbody tr th:only-of-type {\n",
       "        vertical-align: middle;\n",
       "    }\n",
       "\n",
       "    .dataframe tbody tr th {\n",
       "        vertical-align: top;\n",
       "    }\n",
       "\n",
       "    .dataframe thead th {\n",
       "        text-align: right;\n",
       "    }\n",
       "</style>\n",
       "<table border=\"1\" class=\"dataframe\">\n",
       "  <thead>\n",
       "    <tr style=\"text-align: right;\">\n",
       "      <th></th>\n",
       "    </tr>\n",
       "  </thead>\n",
       "  <tbody>\n",
       "  </tbody>\n",
       "</table>\n",
       "</div>"
      ],
      "text/plain": [
       "Empty DataFrame\n",
       "Columns: []\n",
       "Index: []"
      ]
     },
     "execution_count": 93,
     "metadata": {},
     "output_type": "execute_result"
    }
   ],
   "source": [
    "big_df = pd.DataFrame(many_results_info)\n",
    "# big_df[\"info\"] = big_df[\"info\"].replace(\"·\",\"/\")\n",
    "# big_df[[\"date\", \"sqft\",\"neighborhood\"]] = big_df[\"info\"].str.split(\"·\",expand=True)\n",
    "big_df.head()"
   ]
  },
  {
   "cell_type": "code",
   "execution_count": 49,
   "id": "65f6eaaa",
   "metadata": {},
   "outputs": [
    {
     "ename": "ElementDoesNotExist",
     "evalue": "no elements could be found with css \"button[class_=\"bd-button cl-next-page icon-only\"]\"",
     "output_type": "error",
     "traceback": [
      "\u001b[0;31m---------------------------------------------------------------------------\u001b[0m",
      "\u001b[0;31mIndexError\u001b[0m                                Traceback (most recent call last)",
      "\u001b[0;32m~/opt/anaconda3/envs/PythonData/lib/python3.7/site-packages/splinter/element_list.py\u001b[0m in \u001b[0;36m__getitem__\u001b[0;34m(self, index)\u001b[0m\n\u001b[1;32m     39\u001b[0m         \u001b[0;32mtry\u001b[0m\u001b[0;34m:\u001b[0m\u001b[0;34m\u001b[0m\u001b[0;34m\u001b[0m\u001b[0m\n\u001b[0;32m---> 40\u001b[0;31m             \u001b[0;32mreturn\u001b[0m \u001b[0mself\u001b[0m\u001b[0;34m.\u001b[0m\u001b[0m_container\u001b[0m\u001b[0;34m[\u001b[0m\u001b[0mindex\u001b[0m\u001b[0;34m]\u001b[0m\u001b[0;34m\u001b[0m\u001b[0;34m\u001b[0m\u001b[0m\n\u001b[0m\u001b[1;32m     41\u001b[0m         \u001b[0;32mexcept\u001b[0m \u001b[0mIndexError\u001b[0m\u001b[0;34m:\u001b[0m\u001b[0;34m\u001b[0m\u001b[0;34m\u001b[0m\u001b[0m\n",
      "\u001b[0;31mIndexError\u001b[0m: list index out of range",
      "\nDuring handling of the above exception, another exception occurred:\n",
      "\u001b[0;31mElementDoesNotExist\u001b[0m                       Traceback (most recent call last)",
      "\u001b[0;32m/var/folders/f7/nskb_8916130461bmsfyq0y40000gn/T/ipykernel_87773/1695183228.py\u001b[0m in \u001b[0;36m<module>\u001b[0;34m\u001b[0m\n\u001b[1;32m     22\u001b[0m             \u001b[0mprice\u001b[0m \u001b[0;34m=\u001b[0m \u001b[0mx\u001b[0m\u001b[0;34m.\u001b[0m\u001b[0mfind\u001b[0m\u001b[0;34m(\u001b[0m\u001b[0mclass_\u001b[0m\u001b[0;34m=\u001b[0m\u001b[0;34m'priceinfo'\u001b[0m\u001b[0;34m)\u001b[0m\u001b[0;34m.\u001b[0m\u001b[0mtext\u001b[0m\u001b[0;34m\u001b[0m\u001b[0;34m\u001b[0m\u001b[0m\n\u001b[1;32m     23\u001b[0m         \u001b[0;32melse\u001b[0m\u001b[0;34m:\u001b[0m \u001b[0mprice\u001b[0m \u001b[0;34m=\u001b[0m \u001b[0;32mNone\u001b[0m\u001b[0;34m\u001b[0m\u001b[0;34m\u001b[0m\u001b[0m\n\u001b[0;32m---> 24\u001b[0;31m         \u001b[0mbrowser\u001b[0m\u001b[0;34m.\u001b[0m\u001b[0mfind_by_css\u001b[0m\u001b[0;34m(\u001b[0m\u001b[0;34m'button[class_=\"bd-button cl-next-page icon-only\"]'\u001b[0m\u001b[0;34m)\u001b[0m\u001b[0;34m.\u001b[0m\u001b[0mclick\u001b[0m\u001b[0;34m(\u001b[0m\u001b[0;34m)\u001b[0m\u001b[0;34m\u001b[0m\u001b[0;34m\u001b[0m\u001b[0m\n\u001b[0m\u001b[1;32m     25\u001b[0m         dictionary = {\n\u001b[1;32m     26\u001b[0m             \u001b[0;34m\"title\"\u001b[0m\u001b[0;34m:\u001b[0m\u001b[0mtitle\u001b[0m\u001b[0;34m,\u001b[0m\u001b[0;34m\u001b[0m\u001b[0;34m\u001b[0m\u001b[0m\n",
      "\u001b[0;32m~/opt/anaconda3/envs/PythonData/lib/python3.7/site-packages/splinter/element_list.py\u001b[0m in \u001b[0;36m__getattr__\u001b[0;34m(self, name)\u001b[0m\n\u001b[1;32m     76\u001b[0m     \u001b[0;32mdef\u001b[0m \u001b[0m__getattr__\u001b[0m\u001b[0;34m(\u001b[0m\u001b[0mself\u001b[0m\u001b[0;34m,\u001b[0m \u001b[0mname\u001b[0m\u001b[0;34m)\u001b[0m\u001b[0;34m:\u001b[0m\u001b[0;34m\u001b[0m\u001b[0;34m\u001b[0m\u001b[0m\n\u001b[1;32m     77\u001b[0m         \u001b[0;32mtry\u001b[0m\u001b[0;34m:\u001b[0m\u001b[0;34m\u001b[0m\u001b[0;34m\u001b[0m\u001b[0m\n\u001b[0;32m---> 78\u001b[0;31m             \u001b[0;32mreturn\u001b[0m \u001b[0mgetattr\u001b[0m\u001b[0;34m(\u001b[0m\u001b[0mself\u001b[0m\u001b[0;34m.\u001b[0m\u001b[0mfirst\u001b[0m\u001b[0;34m,\u001b[0m \u001b[0mname\u001b[0m\u001b[0;34m)\u001b[0m\u001b[0;34m\u001b[0m\u001b[0;34m\u001b[0m\u001b[0m\n\u001b[0m\u001b[1;32m     79\u001b[0m         \u001b[0;32mexcept\u001b[0m \u001b[0mAttributeError\u001b[0m\u001b[0;34m:\u001b[0m\u001b[0;34m\u001b[0m\u001b[0;34m\u001b[0m\u001b[0m\n\u001b[1;32m     80\u001b[0m             \u001b[0;32mtry\u001b[0m\u001b[0;34m:\u001b[0m\u001b[0;34m\u001b[0m\u001b[0;34m\u001b[0m\u001b[0m\n",
      "\u001b[0;32m~/opt/anaconda3/envs/PythonData/lib/python3.7/site-packages/splinter/element_list.py\u001b[0m in \u001b[0;36mfirst\u001b[0;34m(self)\u001b[0m\n\u001b[1;32m     54\u001b[0m             \u001b[0;34m>>\u001b[0m\u001b[0;34m>\u001b[0m \u001b[0;32massert\u001b[0m \u001b[0melement_list\u001b[0m\u001b[0;34m[\u001b[0m\u001b[0;36m0\u001b[0m\u001b[0;34m]\u001b[0m \u001b[0;34m==\u001b[0m \u001b[0melement_list\u001b[0m\u001b[0;34m.\u001b[0m\u001b[0mfirst\u001b[0m\u001b[0;34m\u001b[0m\u001b[0;34m\u001b[0m\u001b[0m\n\u001b[1;32m     55\u001b[0m         \"\"\"\n\u001b[0;32m---> 56\u001b[0;31m         \u001b[0;32mreturn\u001b[0m \u001b[0mself\u001b[0m\u001b[0;34m[\u001b[0m\u001b[0;36m0\u001b[0m\u001b[0;34m]\u001b[0m\u001b[0;34m\u001b[0m\u001b[0;34m\u001b[0m\u001b[0m\n\u001b[0m\u001b[1;32m     57\u001b[0m \u001b[0;34m\u001b[0m\u001b[0m\n\u001b[1;32m     58\u001b[0m     \u001b[0;34m@\u001b[0m\u001b[0mproperty\u001b[0m\u001b[0;34m\u001b[0m\u001b[0;34m\u001b[0m\u001b[0m\n",
      "\u001b[0;32m~/opt/anaconda3/envs/PythonData/lib/python3.7/site-packages/splinter/element_list.py\u001b[0m in \u001b[0;36m__getitem__\u001b[0;34m(self, index)\u001b[0m\n\u001b[1;32m     42\u001b[0m             raise ElementDoesNotExist(\n\u001b[1;32m     43\u001b[0m                 u'no elements could be found with {0} \"{1}\"'.format(\n\u001b[0;32m---> 44\u001b[0;31m                     \u001b[0mself\u001b[0m\u001b[0;34m.\u001b[0m\u001b[0mfind_by\u001b[0m\u001b[0;34m,\u001b[0m \u001b[0mself\u001b[0m\u001b[0;34m.\u001b[0m\u001b[0mquery\u001b[0m\u001b[0;34m\u001b[0m\u001b[0;34m\u001b[0m\u001b[0m\n\u001b[0m\u001b[1;32m     45\u001b[0m                 )\n\u001b[1;32m     46\u001b[0m             )\n",
      "\u001b[0;31mElementDoesNotExist\u001b[0m: no elements could be found with css \"button[class_=\"bd-button cl-next-page icon-only\"]\""
     ]
    }
   ],
   "source": [
    "#across multiple pages\n",
    "\n",
    "url = 'https://sfbay.craigslist.org/search/off?postal=94107&query=industrial&search_distance=4#search=1~gallery~0~0'\n",
    "browser.visit(url)\n",
    "\n",
    "for x in range(1,4):\n",
    "    html = browser.html\n",
    "    website = soup(html, 'html.parser')\n",
    "    results = website.find_all(class_=\"cl-search-result cl-search-view-mode-gallery\")\n",
    "\n",
    "    all_results_info = []\n",
    "\n",
    "    for x in results:\n",
    "        if x.find(class_='titlestring') is not None:\n",
    "            title = x.find(class_='titlestring').text\n",
    "            link = x.find(class_='titlestring')['href']\n",
    "        else: title = None\n",
    "        if x.find(class_='meta') is not None:\n",
    "            info = x.find(class_='meta').text\n",
    "        else: info = None\n",
    "        if x.find(class_='priceinfo') is not None:\n",
    "            price = x.find(class_='priceinfo').text\n",
    "        else: price = None\n",
    "#         browser.find_by_css('button[class_=\"bd-button cl-next-page icon-only\"]').click()\n",
    "        dictionary = {\n",
    "            \"title\":title,\n",
    "            \"link\":link,\n",
    "            \"info\":info,\n",
    "            \"price\":price,\n",
    "        }\n",
    "        results_info.append(dictionary)"
   ]
  },
  {
   "cell_type": "code",
   "execution_count": 27,
   "id": "df34f8b5",
   "metadata": {},
   "outputs": [],
   "source": [
    "browser = Browser('chrome')\n",
    "loop_url = 'https://www.loopnet.com/search/industrial-space/san-francisco-ca/for-lease/?sk=5d0b2def326a8bf07ad7fb88b215abdf&e=u'\n",
    "browser.visit(loop_url)\n",
    "html = browser.html\n",
    "website = soup(html, 'html.parser')\n",
    "\n",
    "loop_results = website.find_all(class_=\"placard-content\")\n",
    "\n",
    "loop_results_info = []\n",
    "\n",
    "for x in loop_results:\n",
    "    if x.find(\"h4\") is not None:\n",
    "        title = x.find(\"h4\").text\n",
    "    else: title = None\n",
    "    if x.find(class_='data-points-2c') is not None:\n",
    "        info = x.find(class_='data-points-2c').text\n",
    "    else: info = None\n",
    "    dictionary = {\n",
    "        \"title\":title,\n",
    "        \"info\":info,\n",
    "    }\n",
    "    loop_results_info.append(dictionary)"
   ]
  },
  {
   "cell_type": "code",
   "execution_count": 28,
   "id": "3cd472a3",
   "metadata": {},
   "outputs": [
    {
     "data": {
      "text/html": [
       "<div>\n",
       "<style scoped>\n",
       "    .dataframe tbody tr th:only-of-type {\n",
       "        vertical-align: middle;\n",
       "    }\n",
       "\n",
       "    .dataframe tbody tr th {\n",
       "        vertical-align: top;\n",
       "    }\n",
       "\n",
       "    .dataframe thead th {\n",
       "        text-align: right;\n",
       "    }\n",
       "</style>\n",
       "<table border=\"1\" class=\"dataframe\">\n",
       "  <thead>\n",
       "    <tr style=\"text-align: right;\">\n",
       "      <th></th>\n",
       "      <th>title</th>\n",
       "      <th>info</th>\n",
       "    </tr>\n",
       "  </thead>\n",
       "  <tbody>\n",
       "    <tr>\n",
       "      <th>0</th>\n",
       "      <td>None</td>\n",
       "      <td>None</td>\n",
       "    </tr>\n",
       "    <tr>\n",
       "      <th>1</th>\n",
       "      <td>1433 Yosemite Ave &amp; 1430 Armstrong Ave</td>\n",
       "      <td>\\n\\n                        Built in 1960\\n   ...</td>\n",
       "    </tr>\n",
       "    <tr>\n",
       "      <th>2</th>\n",
       "      <td>1600-1680 Tennessee St</td>\n",
       "      <td>\\n\\n                        Built in 1965\\n   ...</td>\n",
       "    </tr>\n",
       "    <tr>\n",
       "      <th>3</th>\n",
       "      <td>275 Mendell St</td>\n",
       "      <td>\\n\\n                        Built in 1979\\n   ...</td>\n",
       "    </tr>\n",
       "    <tr>\n",
       "      <th>4</th>\n",
       "      <td>2160-2295 Palou Ave</td>\n",
       "      <td>\\n\\n                        Built in 1900\\n   ...</td>\n",
       "    </tr>\n",
       "  </tbody>\n",
       "</table>\n",
       "</div>"
      ],
      "text/plain": [
       "                                    title  \\\n",
       "0                                    None   \n",
       "1  1433 Yosemite Ave & 1430 Armstrong Ave   \n",
       "2                  1600-1680 Tennessee St   \n",
       "3                          275 Mendell St   \n",
       "4                     2160-2295 Palou Ave   \n",
       "\n",
       "                                                info  \n",
       "0                                               None  \n",
       "1  \\n\\n                        Built in 1960\\n   ...  \n",
       "2  \\n\\n                        Built in 1965\\n   ...  \n",
       "3  \\n\\n                        Built in 1979\\n   ...  \n",
       "4  \\n\\n                        Built in 1900\\n   ...  "
      ]
     },
     "execution_count": 28,
     "metadata": {},
     "output_type": "execute_result"
    }
   ],
   "source": [
    "loop_df = pd.DataFrame(loop_results_info)\n",
    "loop_df.head()"
   ]
  },
  {
   "cell_type": "code",
   "execution_count": 40,
   "id": "63e3e610",
   "metadata": {},
   "outputs": [
    {
     "ename": "AttributeError",
     "evalue": "ResultSet object has no attribute 'find_all'. You're probably treating a list of elements like a single element. Did you call find_all() when you meant to call find()?",
     "output_type": "error",
     "traceback": [
      "\u001b[0;31m---------------------------------------------------------------------------\u001b[0m",
      "\u001b[0;31mAttributeError\u001b[0m                            Traceback (most recent call last)",
      "\u001b[0;32m/var/folders/f7/nskb_8916130461bmsfyq0y40000gn/T/ipykernel_87773/124880935.py\u001b[0m in \u001b[0;36m<module>\u001b[0;34m\u001b[0m\n\u001b[1;32m      1\u001b[0m \u001b[0minfo\u001b[0m \u001b[0;34m=\u001b[0m \u001b[0mwebsite\u001b[0m\u001b[0;34m.\u001b[0m\u001b[0mfind_all\u001b[0m\u001b[0;34m(\u001b[0m\u001b[0;34m\"ul\"\u001b[0m\u001b[0;34m,\u001b[0m \u001b[0mclass_\u001b[0m\u001b[0;34m=\u001b[0m\u001b[0;34m'data-points-2c'\u001b[0m\u001b[0;34m)\u001b[0m\u001b[0;34m\u001b[0m\u001b[0;34m\u001b[0m\u001b[0m\n\u001b[0;32m----> 2\u001b[0;31m \u001b[0;34m[\u001b[0m\u001b[0mx\u001b[0m\u001b[0;34m.\u001b[0m\u001b[0mtext\u001b[0m \u001b[0;32mfor\u001b[0m \u001b[0mx\u001b[0m \u001b[0;32min\u001b[0m \u001b[0minfo\u001b[0m\u001b[0;34m.\u001b[0m\u001b[0mfind_all\u001b[0m\u001b[0;34m(\u001b[0m\u001b[0;34m'li'\u001b[0m\u001b[0;34m)\u001b[0m\u001b[0;34m]\u001b[0m\u001b[0;34m\u001b[0m\u001b[0;34m\u001b[0m\u001b[0m\n\u001b[0m",
      "\u001b[0;32m~/opt/anaconda3/envs/PythonData/lib/python3.7/site-packages/bs4/element.py\u001b[0m in \u001b[0;36m__getattr__\u001b[0;34m(self, key)\u001b[0m\n\u001b[1;32m   2288\u001b[0m         \u001b[0;34m\"\"\"Raise a helpful exception to explain a common code fix.\"\"\"\u001b[0m\u001b[0;34m\u001b[0m\u001b[0;34m\u001b[0m\u001b[0m\n\u001b[1;32m   2289\u001b[0m         raise AttributeError(\n\u001b[0;32m-> 2290\u001b[0;31m             \u001b[0;34m\"ResultSet object has no attribute '%s'. You're probably treating a list of elements like a single element. Did you call find_all() when you meant to call find()?\"\u001b[0m \u001b[0;34m%\u001b[0m \u001b[0mkey\u001b[0m\u001b[0;34m\u001b[0m\u001b[0;34m\u001b[0m\u001b[0m\n\u001b[0m\u001b[1;32m   2291\u001b[0m         )\n",
      "\u001b[0;31mAttributeError\u001b[0m: ResultSet object has no attribute 'find_all'. You're probably treating a list of elements like a single element. Did you call find_all() when you meant to call find()?"
     ]
    }
   ],
   "source": [
    "info = website.find_all(\"ul\", class_='data-points-2c')\n",
    "[x.text for x in info.find_all('li')]\n"
   ]
  },
  {
   "cell_type": "code",
   "execution_count": null,
   "id": "f1b93f92",
   "metadata": {},
   "outputs": [],
   "source": []
  }
 ],
 "metadata": {
  "kernelspec": {
   "display_name": "Python [conda env:PythonData] *",
   "language": "python",
   "name": "conda-env-PythonData-py"
  },
  "language_info": {
   "codemirror_mode": {
    "name": "ipython",
    "version": 3
   },
   "file_extension": ".py",
   "mimetype": "text/x-python",
   "name": "python",
   "nbconvert_exporter": "python",
   "pygments_lexer": "ipython3",
   "version": "3.7.16"
  }
 },
 "nbformat": 4,
 "nbformat_minor": 5
}
