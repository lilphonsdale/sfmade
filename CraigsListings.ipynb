{
 "cells": [
  {
   "cell_type": "code",
   "execution_count": 25,
   "id": "c786264c",
   "metadata": {},
   "outputs": [],
   "source": [
    "from splinter import Browser\n",
    "from bs4 import BeautifulSoup as soup\n",
    "import pandas as pd"
   ]
  },
  {
   "cell_type": "code",
   "execution_count": 26,
   "id": "0587ea6d",
   "metadata": {},
   "outputs": [],
   "source": [
    "#search page\n",
    "browser = Browser('chrome')\n",
    "url = 'https://sfbay.craigslist.org/search/off?postal=94107&query=pdr&search_distance=4#search=1~gallery~0~0'\n",
    "browser.visit(url)\n",
    "html = browser.html\n",
    "website = soup(html, 'html.parser')"
   ]
  },
  {
   "cell_type": "code",
   "execution_count": 29,
   "id": "4e289879",
   "metadata": {},
   "outputs": [],
   "source": [
    "#collect all of the search results\n",
    "\n",
    "results = website.find_all(class_=\"cl-search-result cl-search-view-mode-gallery\")\n",
    "\n",
    "results_info = []\n",
    "\n",
    "for x in results:\n",
    "    if x.find(class_='titlestring') is not None:\n",
    "        title = x.find(class_='titlestring').text\n",
    "        link = x.find(class_='titlestring')['href']\n",
    "    else: title = None\n",
    "    if x.find(class_='meta') is not None:\n",
    "        info = x.find(class_='meta').text\n",
    "    else: info = None\n",
    "    if x.find(class_='priceinfo') is not None:\n",
    "        price = x.find(class_='priceinfo').text\n",
    "    else: price = None\n",
    "    table = {\n",
    "        \"title\":title,\n",
    "        \"link\":link,\n",
    "        \"info\":info,\n",
    "        \"price\":price,\n",
    "    }\n",
    "    results_info.append(table)"
   ]
  },
  {
   "cell_type": "code",
   "execution_count": 32,
   "id": "4b49800b",
   "metadata": {
    "scrolled": false
   },
   "outputs": [
    {
     "ename": "NameError",
     "evalue": "name 'table' is not defined",
     "output_type": "error",
     "traceback": [
      "\u001b[0;31m---------------------------------------------------------------------------\u001b[0m",
      "\u001b[0;31mNameError\u001b[0m                                 Traceback (most recent call last)",
      "\u001b[0;32m/var/folders/mw/zjkpp1qs79dgw3r0cj69_8s00000gn/T/ipykernel_35057/3773097606.py\u001b[0m in \u001b[0;36m<module>\u001b[0;34m\u001b[0m\n\u001b[1;32m      1\u001b[0m \u001b[0mdf\u001b[0m \u001b[0;34m=\u001b[0m \u001b[0mpd\u001b[0m\u001b[0;34m.\u001b[0m\u001b[0mDataFrame\u001b[0m\u001b[0;34m(\u001b[0m\u001b[0mresults_info\u001b[0m\u001b[0;34m)\u001b[0m\u001b[0;34m\u001b[0m\u001b[0;34m\u001b[0m\u001b[0m\n\u001b[1;32m      2\u001b[0m \u001b[0mdf\u001b[0m\u001b[0;34m\u001b[0m\u001b[0;34m\u001b[0m\u001b[0m\n\u001b[0;32m----> 3\u001b[0;31m \u001b[0mtable\u001b[0m\u001b[0;34m\u001b[0m\u001b[0;34m\u001b[0m\u001b[0m\n\u001b[0m",
      "\u001b[0;31mNameError\u001b[0m: name 'table' is not defined"
     ]
    }
   ],
   "source": [
    "# df = pd.DataFrame(results_info)\n",
    "# df\n",
    "# table"
   ]
  },
  {
   "cell_type": "code",
   "execution_count": 5,
   "id": "213266e7",
   "metadata": {},
   "outputs": [],
   "source": [
    "meta = website.find(\"div\", class_='meta')\n",
    "meta\n",
    "# meta = meta.find(\"span\", class_=\"separator\").remove()"
   ]
  },
  {
   "cell_type": "code",
   "execution_count": 8,
   "id": "9cdd98b1",
   "metadata": {},
   "outputs": [],
   "source": [
    "#with many more results\n",
    "\n",
    "url = 'https://sfbay.craigslist.org/search/off?postal=94107&query=industrial&search_distance=4#search=1~gallery~0~0'\n",
    "browser.visit(new_url)\n",
    "html = browser.html\n",
    "website = soup(html, 'html.parser')\n",
    "\n",
    "results = website.find_all(class_=\"cl-search-result cl-search-view-mode-gallery\")\n",
    "\n",
    "results_info = []\n",
    "\n",
    "for x in many_results:\n",
    "    if x.find(class_='titlestring') is not None:\n",
    "        title = x.find(class_='titlestring').text\n",
    "        link = x.find(class_='titlestring')['href']\n",
    "    else: new_title = None\n",
    "    if x.find(class_='meta') is not None:\n",
    "        info = x.find(class_='meta').text\n",
    "    else: info = None\n",
    "    if x.find(class_='priceinfo') is not None:\n",
    "        price = x.find(class_='priceinfo').text\n",
    "    else: price = None\n",
    "    dictionary = {\n",
    "        \"title\":title,\n",
    "        \"link\":link,\n",
    "        \"info\":info,\n",
    "        \"price\":price,\n",
    "    }\n",
    "    results_info.append(dictionary)"
   ]
  },
  {
   "cell_type": "code",
   "execution_count": 10,
   "id": "6a516257",
   "metadata": {},
   "outputs": [
    {
     "data": {
      "text/html": [
       "<div>\n",
       "<style scoped>\n",
       "    .dataframe tbody tr th:only-of-type {\n",
       "        vertical-align: middle;\n",
       "    }\n",
       "\n",
       "    .dataframe tbody tr th {\n",
       "        vertical-align: top;\n",
       "    }\n",
       "\n",
       "    .dataframe thead th {\n",
       "        text-align: right;\n",
       "    }\n",
       "</style>\n",
       "<table border=\"1\" class=\"dataframe\">\n",
       "  <thead>\n",
       "    <tr style=\"text-align: right;\">\n",
       "      <th></th>\n",
       "    </tr>\n",
       "  </thead>\n",
       "  <tbody>\n",
       "  </tbody>\n",
       "</table>\n",
       "</div>"
      ],
      "text/plain": [
       "Empty DataFrame\n",
       "Columns: []\n",
       "Index: []"
      ]
     },
     "execution_count": 10,
     "metadata": {},
     "output_type": "execute_result"
    }
   ],
   "source": [
    "big_df = pd.DataFrame(results_info)\n",
    "# big_df[\"info\"] = big_df[\"info\"].replace(\"·\",\"/\")\n",
    "# big_df[[\"date\", \"sqft\",\"neighborhood\"]] = big_df[\"info\"].str.split(\"·\",expand=True)\n",
    "big_df.head()"
   ]
  },
  {
   "cell_type": "code",
   "execution_count": 12,
   "id": "65f6eaaa",
   "metadata": {},
   "outputs": [],
   "source": [
    "#across multiple pages\n",
    "\n",
    "url = 'https://sfbay.craigslist.org/search/off?postal=94107&query=industrial&search_distance=4#search=1~gallery~0~0'\n",
    "browser.visit(url)\n",
    "\n",
    "for x in range(1,4):\n",
    "    html = browser.html\n",
    "    website = soup(html, 'html.parser')\n",
    "    results = website.find_all(class_=\"cl-search-result cl-search-view-mode-gallery\")\n",
    "\n",
    "    all_results_info = []\n",
    "\n",
    "    for x in results:\n",
    "        if x.find(class_='titlestring') is not None:\n",
    "            title = x.find(class_='titlestring').text\n",
    "            link = x.find(class_='titlestring')['href']\n",
    "        else: title = None\n",
    "        if x.find(class_='meta') is not None:\n",
    "            info = x.find(class_='meta').text\n",
    "        else: info = None\n",
    "        if x.find(class_='priceinfo') is not None:\n",
    "            price = x.find(class_='priceinfo').text\n",
    "        else: price = None\n",
    "#         browser.find_by_css('button[class_=\"bd-button cl-next-page icon-only\"]').click()\n",
    "        dictionary = {\n",
    "            \"title\":title,\n",
    "            \"link\":link,\n",
    "            \"info\":info,\n",
    "            \"price\":price,\n",
    "        }\n",
    "        results_info.append(dictionary)"
   ]
  },
  {
   "cell_type": "code",
   "execution_count": 23,
   "id": "f1b93f92",
   "metadata": {},
   "outputs": [],
   "source": [
    "browser.quit()"
   ]
  },
  {
   "cell_type": "code",
   "execution_count": null,
   "id": "f2cf81f9",
   "metadata": {},
   "outputs": [],
   "source": []
  }
 ],
 "metadata": {
  "kernelspec": {
   "display_name": "Python [conda env:PythonData] *",
   "language": "python",
   "name": "conda-env-PythonData-py"
  },
  "language_info": {
   "codemirror_mode": {
    "name": "ipython",
    "version": 3
   },
   "file_extension": ".py",
   "mimetype": "text/x-python",
   "name": "python",
   "nbconvert_exporter": "python",
   "pygments_lexer": "ipython3",
   "version": "3.7.15"
  }
 },
 "nbformat": 4,
 "nbformat_minor": 5
}
